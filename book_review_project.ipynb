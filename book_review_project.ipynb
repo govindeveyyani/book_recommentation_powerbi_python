{
 "cells": [
  {
   "cell_type": "code",
   "execution_count": 24,
   "id": "b2a7ae5d",
   "metadata": {},
   "outputs": [],
   "source": [
    "import pandas as pd\n",
    "import numpy as np"
   ]
  },
  {
   "cell_type": "code",
   "execution_count": 25,
   "id": "6940181c",
   "metadata": {},
   "outputs": [],
   "source": [
    "df = pd.read_csv(\"E:\\continued circulam project\\Preprocessed_data.csv\")\n",
    "\n",
    "\n",
    "    \n"
   ]
  },
  {
   "cell_type": "code",
   "execution_count": 26,
   "id": "6a7f9bba",
   "metadata": {},
   "outputs": [
    {
     "name": "stdout",
     "output_type": "stream",
     "text": [
      "<class 'pandas.core.frame.DataFrame'>\n",
      "RangeIndex: 1031175 entries, 0 to 1031174\n",
      "Data columns (total 19 columns):\n",
      " #   Column               Non-Null Count    Dtype  \n",
      "---  ------               --------------    -----  \n",
      " 0   Unnamed: 0           1031175 non-null  int64  \n",
      " 1   user_id              1031175 non-null  int64  \n",
      " 2   location             1031175 non-null  object \n",
      " 3   age                  1031175 non-null  float64\n",
      " 4   isbn                 1031175 non-null  object \n",
      " 5   rating               1031175 non-null  int64  \n",
      " 6   book_title           1031175 non-null  object \n",
      " 7   book_author          1031174 non-null  object \n",
      " 8   year_of_publication  1031175 non-null  float64\n",
      " 9   publisher            1031175 non-null  object \n",
      " 10  img_s                1031175 non-null  object \n",
      " 11  img_m                1031175 non-null  object \n",
      " 12  img_l                1031175 non-null  object \n",
      " 13  Summary              1031175 non-null  object \n",
      " 14  Language             1031175 non-null  object \n",
      " 15  Category             1031175 non-null  object \n",
      " 16  city                 1017072 non-null  object \n",
      " 17  state                1008377 non-null  object \n",
      " 18  country              995801 non-null   object \n",
      "dtypes: float64(2), int64(3), object(14)\n",
      "memory usage: 149.5+ MB\n"
     ]
    }
   ],
   "source": [
    "df .info()"
   ]
  },
  {
   "cell_type": "code",
   "execution_count": 27,
   "id": "8aca3f84",
   "metadata": {},
   "outputs": [],
   "source": [
    "df = df.drop(columns=['img_s', 'img_m', 'img_l'])"
   ]
  },
  {
   "cell_type": "code",
   "execution_count": 28,
   "id": "652012df",
   "metadata": {},
   "outputs": [],
   "source": [
    "df['Category'] = df['Category'].str[2:-2]"
   ]
  },
  {
   "cell_type": "code",
   "execution_count": 29,
   "id": "0e1a867a",
   "metadata": {},
   "outputs": [],
   "source": [
    "df['year_of_publication'] = df['year_of_publication'].astype(int)"
   ]
  },
  {
   "cell_type": "code",
   "execution_count": 30,
   "id": "99edebef",
   "metadata": {},
   "outputs": [
    {
     "data": {
      "text/html": [
       "<div>\n",
       "<style scoped>\n",
       "    .dataframe tbody tr th:only-of-type {\n",
       "        vertical-align: middle;\n",
       "    }\n",
       "\n",
       "    .dataframe tbody tr th {\n",
       "        vertical-align: top;\n",
       "    }\n",
       "\n",
       "    .dataframe thead th {\n",
       "        text-align: right;\n",
       "    }\n",
       "</style>\n",
       "<table border=\"1\" class=\"dataframe\">\n",
       "  <thead>\n",
       "    <tr style=\"text-align: right;\">\n",
       "      <th></th>\n",
       "      <th>Unnamed: 0</th>\n",
       "      <th>user_id</th>\n",
       "      <th>age</th>\n",
       "      <th>rating</th>\n",
       "      <th>year_of_publication</th>\n",
       "    </tr>\n",
       "  </thead>\n",
       "  <tbody>\n",
       "    <tr>\n",
       "      <th>count</th>\n",
       "      <td>1.031175e+06</td>\n",
       "      <td>1.031175e+06</td>\n",
       "      <td>1.031175e+06</td>\n",
       "      <td>1.031175e+06</td>\n",
       "      <td>1.031175e+06</td>\n",
       "    </tr>\n",
       "    <tr>\n",
       "      <th>mean</th>\n",
       "      <td>5.155870e+05</td>\n",
       "      <td>1.405944e+05</td>\n",
       "      <td>3.642902e+01</td>\n",
       "      <td>2.839022e+00</td>\n",
       "      <td>1.995283e+03</td>\n",
       "    </tr>\n",
       "    <tr>\n",
       "      <th>std</th>\n",
       "      <td>2.976747e+05</td>\n",
       "      <td>8.052444e+04</td>\n",
       "      <td>1.035354e+01</td>\n",
       "      <td>3.854149e+00</td>\n",
       "      <td>7.309340e+00</td>\n",
       "    </tr>\n",
       "    <tr>\n",
       "      <th>min</th>\n",
       "      <td>0.000000e+00</td>\n",
       "      <td>2.000000e+00</td>\n",
       "      <td>5.000000e+00</td>\n",
       "      <td>0.000000e+00</td>\n",
       "      <td>1.376000e+03</td>\n",
       "    </tr>\n",
       "    <tr>\n",
       "      <th>25%</th>\n",
       "      <td>2.577935e+05</td>\n",
       "      <td>7.041500e+04</td>\n",
       "      <td>3.100000e+01</td>\n",
       "      <td>0.000000e+00</td>\n",
       "      <td>1.992000e+03</td>\n",
       "    </tr>\n",
       "    <tr>\n",
       "      <th>50%</th>\n",
       "      <td>5.155870e+05</td>\n",
       "      <td>1.412100e+05</td>\n",
       "      <td>3.474390e+01</td>\n",
       "      <td>0.000000e+00</td>\n",
       "      <td>1.997000e+03</td>\n",
       "    </tr>\n",
       "    <tr>\n",
       "      <th>75%</th>\n",
       "      <td>7.733805e+05</td>\n",
       "      <td>2.114260e+05</td>\n",
       "      <td>4.100000e+01</td>\n",
       "      <td>7.000000e+00</td>\n",
       "      <td>2.001000e+03</td>\n",
       "    </tr>\n",
       "    <tr>\n",
       "      <th>max</th>\n",
       "      <td>1.031174e+06</td>\n",
       "      <td>2.788540e+05</td>\n",
       "      <td>9.900000e+01</td>\n",
       "      <td>1.000000e+01</td>\n",
       "      <td>2.008000e+03</td>\n",
       "    </tr>\n",
       "  </tbody>\n",
       "</table>\n",
       "</div>"
      ],
      "text/plain": [
       "         Unnamed: 0       user_id           age        rating  \\\n",
       "count  1.031175e+06  1.031175e+06  1.031175e+06  1.031175e+06   \n",
       "mean   5.155870e+05  1.405944e+05  3.642902e+01  2.839022e+00   \n",
       "std    2.976747e+05  8.052444e+04  1.035354e+01  3.854149e+00   \n",
       "min    0.000000e+00  2.000000e+00  5.000000e+00  0.000000e+00   \n",
       "25%    2.577935e+05  7.041500e+04  3.100000e+01  0.000000e+00   \n",
       "50%    5.155870e+05  1.412100e+05  3.474390e+01  0.000000e+00   \n",
       "75%    7.733805e+05  2.114260e+05  4.100000e+01  7.000000e+00   \n",
       "max    1.031174e+06  2.788540e+05  9.900000e+01  1.000000e+01   \n",
       "\n",
       "       year_of_publication  \n",
       "count         1.031175e+06  \n",
       "mean          1.995283e+03  \n",
       "std           7.309340e+00  \n",
       "min           1.376000e+03  \n",
       "25%           1.992000e+03  \n",
       "50%           1.997000e+03  \n",
       "75%           2.001000e+03  \n",
       "max           2.008000e+03  "
      ]
     },
     "execution_count": 30,
     "metadata": {},
     "output_type": "execute_result"
    }
   ],
   "source": [
    "df.describe()"
   ]
  },
  {
   "cell_type": "code",
   "execution_count": 31,
   "id": "85fa9a7b",
   "metadata": {},
   "outputs": [
    {
     "data": {
      "text/plain": [
       "1031175"
      ]
     },
     "execution_count": 31,
     "metadata": {},
     "output_type": "execute_result"
    }
   ],
   "source": [
    "len(df)"
   ]
  },
  {
   "cell_type": "code",
   "execution_count": 32,
   "id": "73cf9a20",
   "metadata": {},
   "outputs": [],
   "source": [
    "df = df.dropna()"
   ]
  },
  {
   "cell_type": "code",
   "execution_count": 33,
   "id": "6e85800c",
   "metadata": {},
   "outputs": [
    {
     "data": {
      "text/plain": [
       "982278"
      ]
     },
     "execution_count": 33,
     "metadata": {},
     "output_type": "execute_result"
    }
   ],
   "source": [
    "len(df)"
   ]
  },
  {
   "cell_type": "code",
   "execution_count": 34,
   "id": "407dc2af",
   "metadata": {},
   "outputs": [],
   "source": [
    "df = df.drop(columns=['isbn'])"
   ]
  },
  {
   "cell_type": "code",
   "execution_count": 35,
   "id": "0172037d",
   "metadata": {},
   "outputs": [],
   "source": [
    "df = df.drop(columns=['Unnamed: 0'])"
   ]
  },
  {
   "cell_type": "code",
   "execution_count": 39,
   "id": "3323bd33",
   "metadata": {},
   "outputs": [],
   "source": [
    "df = df.drop(columns=['country'])"
   ]
  },
  {
   "cell_type": "code",
   "execution_count": 36,
   "id": "5d56ec95",
   "metadata": {},
   "outputs": [],
   "source": [
    "df['age'] = df['age'].astype(int)"
   ]
  },
  {
   "cell_type": "code",
   "execution_count": 37,
   "id": "731aca86",
   "metadata": {},
   "outputs": [],
   "source": [
    "def categorize_age(age):\n",
    "    if age <= 12:\n",
    "        return 'children'\n",
    "    elif 13 <= age <= 19:\n",
    "        return 'teenage'\n",
    "    elif 20 <= age <= 59:\n",
    "        return 'adult'\n",
    "    else:\n",
    "        return 'senior_citizens'\n",
    "\n",
    "# Apply the function to create a new column\n",
    "df['age_category'] = df['age'].apply(categorize_age)"
   ]
  },
  {
   "cell_type": "code",
   "execution_count": 41,
   "id": "b165b6f5",
   "metadata": {},
   "outputs": [],
   "source": [
    "df['country'] = df['location'].apply(lambda x: x.split(',')[-1].strip())"
   ]
  },
  {
   "cell_type": "code",
   "execution_count": 43,
   "id": "76b9d249",
   "metadata": {},
   "outputs": [],
   "source": [
    "df = df.drop(columns=['location'])"
   ]
  },
  {
   "cell_type": "code",
   "execution_count": 47,
   "id": "991473a6",
   "metadata": {},
   "outputs": [
    {
     "data": {
      "text/html": [
       "<div>\n",
       "<style scoped>\n",
       "    .dataframe tbody tr th:only-of-type {\n",
       "        vertical-align: middle;\n",
       "    }\n",
       "\n",
       "    .dataframe tbody tr th {\n",
       "        vertical-align: top;\n",
       "    }\n",
       "\n",
       "    .dataframe thead th {\n",
       "        text-align: right;\n",
       "    }\n",
       "</style>\n",
       "<table border=\"1\" class=\"dataframe\">\n",
       "  <thead>\n",
       "    <tr style=\"text-align: right;\">\n",
       "      <th></th>\n",
       "      <th>user_id</th>\n",
       "      <th>age</th>\n",
       "      <th>rating</th>\n",
       "      <th>book_title</th>\n",
       "      <th>book_author</th>\n",
       "      <th>year_of_publication</th>\n",
       "      <th>publisher</th>\n",
       "      <th>Summary</th>\n",
       "      <th>Language</th>\n",
       "      <th>Category</th>\n",
       "      <th>city</th>\n",
       "      <th>state</th>\n",
       "      <th>age_category</th>\n",
       "      <th>country</th>\n",
       "    </tr>\n",
       "  </thead>\n",
       "  <tbody>\n",
       "    <tr>\n",
       "      <th>0</th>\n",
       "      <td>2</td>\n",
       "      <td>18</td>\n",
       "      <td>0</td>\n",
       "      <td>Classical Mythology</td>\n",
       "      <td>Mark P. O. Morford</td>\n",
       "      <td>2002</td>\n",
       "      <td>Oxford University Press</td>\n",
       "      <td>Provides an introduction to classical myths pl...</td>\n",
       "      <td>en</td>\n",
       "      <td>Social Science</td>\n",
       "      <td>stockton</td>\n",
       "      <td>california</td>\n",
       "      <td>teenage</td>\n",
       "      <td>usa</td>\n",
       "    </tr>\n",
       "    <tr>\n",
       "      <th>1</th>\n",
       "      <td>8</td>\n",
       "      <td>34</td>\n",
       "      <td>5</td>\n",
       "      <td>Clara Callan</td>\n",
       "      <td>Richard Bruce Wright</td>\n",
       "      <td>2001</td>\n",
       "      <td>HarperFlamingo Canada</td>\n",
       "      <td>In a small town in Canada, Clara Callan reluct...</td>\n",
       "      <td>en</td>\n",
       "      <td>Actresses</td>\n",
       "      <td>timmins</td>\n",
       "      <td>ontario</td>\n",
       "      <td>adult</td>\n",
       "      <td>canada</td>\n",
       "    </tr>\n",
       "    <tr>\n",
       "      <th>2</th>\n",
       "      <td>11400</td>\n",
       "      <td>49</td>\n",
       "      <td>0</td>\n",
       "      <td>Clara Callan</td>\n",
       "      <td>Richard Bruce Wright</td>\n",
       "      <td>2001</td>\n",
       "      <td>HarperFlamingo Canada</td>\n",
       "      <td>In a small town in Canada, Clara Callan reluct...</td>\n",
       "      <td>en</td>\n",
       "      <td>Actresses</td>\n",
       "      <td>ottawa</td>\n",
       "      <td>ontario</td>\n",
       "      <td>adult</td>\n",
       "      <td>canada</td>\n",
       "    </tr>\n",
       "    <tr>\n",
       "      <th>4</th>\n",
       "      <td>41385</td>\n",
       "      <td>34</td>\n",
       "      <td>0</td>\n",
       "      <td>Clara Callan</td>\n",
       "      <td>Richard Bruce Wright</td>\n",
       "      <td>2001</td>\n",
       "      <td>HarperFlamingo Canada</td>\n",
       "      <td>In a small town in Canada, Clara Callan reluct...</td>\n",
       "      <td>en</td>\n",
       "      <td>Actresses</td>\n",
       "      <td>sudbury</td>\n",
       "      <td>ontario</td>\n",
       "      <td>adult</td>\n",
       "      <td>canada</td>\n",
       "    </tr>\n",
       "    <tr>\n",
       "      <th>5</th>\n",
       "      <td>67544</td>\n",
       "      <td>30</td>\n",
       "      <td>8</td>\n",
       "      <td>Clara Callan</td>\n",
       "      <td>Richard Bruce Wright</td>\n",
       "      <td>2001</td>\n",
       "      <td>HarperFlamingo Canada</td>\n",
       "      <td>In a small town in Canada, Clara Callan reluct...</td>\n",
       "      <td>en</td>\n",
       "      <td>Actresses</td>\n",
       "      <td>toronto</td>\n",
       "      <td>ontario</td>\n",
       "      <td>adult</td>\n",
       "      <td>canada</td>\n",
       "    </tr>\n",
       "    <tr>\n",
       "      <th>6</th>\n",
       "      <td>85526</td>\n",
       "      <td>36</td>\n",
       "      <td>0</td>\n",
       "      <td>Clara Callan</td>\n",
       "      <td>Richard Bruce Wright</td>\n",
       "      <td>2001</td>\n",
       "      <td>HarperFlamingo Canada</td>\n",
       "      <td>In a small town in Canada, Clara Callan reluct...</td>\n",
       "      <td>en</td>\n",
       "      <td>Actresses</td>\n",
       "      <td>victoria</td>\n",
       "      <td>british columbia</td>\n",
       "      <td>adult</td>\n",
       "      <td>canada</td>\n",
       "    </tr>\n",
       "    <tr>\n",
       "      <th>7</th>\n",
       "      <td>96054</td>\n",
       "      <td>29</td>\n",
       "      <td>0</td>\n",
       "      <td>Clara Callan</td>\n",
       "      <td>Richard Bruce Wright</td>\n",
       "      <td>2001</td>\n",
       "      <td>HarperFlamingo Canada</td>\n",
       "      <td>In a small town in Canada, Clara Callan reluct...</td>\n",
       "      <td>en</td>\n",
       "      <td>Actresses</td>\n",
       "      <td>ottawa</td>\n",
       "      <td>ontario</td>\n",
       "      <td>adult</td>\n",
       "      <td>canada</td>\n",
       "    </tr>\n",
       "    <tr>\n",
       "      <th>9</th>\n",
       "      <td>123629</td>\n",
       "      <td>34</td>\n",
       "      <td>9</td>\n",
       "      <td>Clara Callan</td>\n",
       "      <td>Richard Bruce Wright</td>\n",
       "      <td>2001</td>\n",
       "      <td>HarperFlamingo Canada</td>\n",
       "      <td>In a small town in Canada, Clara Callan reluct...</td>\n",
       "      <td>en</td>\n",
       "      <td>Actresses</td>\n",
       "      <td>kingston</td>\n",
       "      <td>ontario</td>\n",
       "      <td>adult</td>\n",
       "      <td>canada</td>\n",
       "    </tr>\n",
       "    <tr>\n",
       "      <th>10</th>\n",
       "      <td>177458</td>\n",
       "      <td>29</td>\n",
       "      <td>0</td>\n",
       "      <td>Clara Callan</td>\n",
       "      <td>Richard Bruce Wright</td>\n",
       "      <td>2001</td>\n",
       "      <td>HarperFlamingo Canada</td>\n",
       "      <td>In a small town in Canada, Clara Callan reluct...</td>\n",
       "      <td>en</td>\n",
       "      <td>Actresses</td>\n",
       "      <td>ottawa</td>\n",
       "      <td>ontario</td>\n",
       "      <td>adult</td>\n",
       "      <td>canada</td>\n",
       "    </tr>\n",
       "    <tr>\n",
       "      <th>11</th>\n",
       "      <td>200273</td>\n",
       "      <td>34</td>\n",
       "      <td>8</td>\n",
       "      <td>Clara Callan</td>\n",
       "      <td>Richard Bruce Wright</td>\n",
       "      <td>2001</td>\n",
       "      <td>HarperFlamingo Canada</td>\n",
       "      <td>In a small town in Canada, Clara Callan reluct...</td>\n",
       "      <td>en</td>\n",
       "      <td>Actresses</td>\n",
       "      <td>comber</td>\n",
       "      <td>ontario</td>\n",
       "      <td>adult</td>\n",
       "      <td>canada</td>\n",
       "    </tr>\n",
       "  </tbody>\n",
       "</table>\n",
       "</div>"
      ],
      "text/plain": [
       "    user_id  age  rating           book_title           book_author  \\\n",
       "0         2   18       0  Classical Mythology    Mark P. O. Morford   \n",
       "1         8   34       5         Clara Callan  Richard Bruce Wright   \n",
       "2     11400   49       0         Clara Callan  Richard Bruce Wright   \n",
       "4     41385   34       0         Clara Callan  Richard Bruce Wright   \n",
       "5     67544   30       8         Clara Callan  Richard Bruce Wright   \n",
       "6     85526   36       0         Clara Callan  Richard Bruce Wright   \n",
       "7     96054   29       0         Clara Callan  Richard Bruce Wright   \n",
       "9    123629   34       9         Clara Callan  Richard Bruce Wright   \n",
       "10   177458   29       0         Clara Callan  Richard Bruce Wright   \n",
       "11   200273   34       8         Clara Callan  Richard Bruce Wright   \n",
       "\n",
       "    year_of_publication                publisher  \\\n",
       "0                  2002  Oxford University Press   \n",
       "1                  2001    HarperFlamingo Canada   \n",
       "2                  2001    HarperFlamingo Canada   \n",
       "4                  2001    HarperFlamingo Canada   \n",
       "5                  2001    HarperFlamingo Canada   \n",
       "6                  2001    HarperFlamingo Canada   \n",
       "7                  2001    HarperFlamingo Canada   \n",
       "9                  2001    HarperFlamingo Canada   \n",
       "10                 2001    HarperFlamingo Canada   \n",
       "11                 2001    HarperFlamingo Canada   \n",
       "\n",
       "                                              Summary Language  \\\n",
       "0   Provides an introduction to classical myths pl...       en   \n",
       "1   In a small town in Canada, Clara Callan reluct...       en   \n",
       "2   In a small town in Canada, Clara Callan reluct...       en   \n",
       "4   In a small town in Canada, Clara Callan reluct...       en   \n",
       "5   In a small town in Canada, Clara Callan reluct...       en   \n",
       "6   In a small town in Canada, Clara Callan reluct...       en   \n",
       "7   In a small town in Canada, Clara Callan reluct...       en   \n",
       "9   In a small town in Canada, Clara Callan reluct...       en   \n",
       "10  In a small town in Canada, Clara Callan reluct...       en   \n",
       "11  In a small town in Canada, Clara Callan reluct...       en   \n",
       "\n",
       "          Category      city             state age_category country  \n",
       "0   Social Science  stockton        california      teenage     usa  \n",
       "1        Actresses   timmins           ontario        adult  canada  \n",
       "2        Actresses    ottawa           ontario        adult  canada  \n",
       "4        Actresses   sudbury           ontario        adult  canada  \n",
       "5        Actresses   toronto           ontario        adult  canada  \n",
       "6        Actresses  victoria  british columbia        adult  canada  \n",
       "7        Actresses    ottawa           ontario        adult  canada  \n",
       "9        Actresses  kingston           ontario        adult  canada  \n",
       "10       Actresses    ottawa           ontario        adult  canada  \n",
       "11       Actresses    comber           ontario        adult  canada  "
      ]
     },
     "execution_count": 47,
     "metadata": {},
     "output_type": "execute_result"
    }
   ],
   "source": [
    "df.head(10)"
   ]
  },
  {
   "cell_type": "code",
   "execution_count": 45,
   "id": "0b18f80f",
   "metadata": {},
   "outputs": [],
   "source": [
    "df.to_csv(\"E:/CC week 4 project/book_review_cleaned.csv\", index=False)"
   ]
  },
  {
   "cell_type": "code",
   "execution_count": 51,
   "id": "7b5b2b66",
   "metadata": {},
   "outputs": [],
   "source": [
    "# Filter popular books (rated by at least 50 users)\n",
    "popular_books = df['book_title'].value_counts()[df['book_title'].value_counts() > 50].index\n",
    "df_filtered = df[df['book_title'].isin(popular_books)]\n",
    "\n",
    "# Filter active users (who rated at least 20 books)\n",
    "active_users = df_filtered['user_id'].value_counts()[df_filtered['user_id'].value_counts() > 20].index\n",
    "df_filtered = df_filtered[df_filtered['user_id'].isin(active_users)]\n"
   ]
  },
  {
   "cell_type": "code",
   "execution_count": 52,
   "id": "e83957dd",
   "metadata": {},
   "outputs": [],
   "source": [
    "user_book_matrix = df_filtered.pivot_table(index='user_id', columns='book_title', values='rating')\n",
    "user_book_matrix.fillna(0, inplace=True)\n"
   ]
  },
  {
   "cell_type": "code",
   "execution_count": 53,
   "id": "9e1a7921",
   "metadata": {},
   "outputs": [
    {
     "data": {
      "text/plain": [
       "book_title\n",
       "Where the Heart Is (Oprah's Book Club (Paperback))    7.8\n",
       "The Lovely Bones: A Novel                             7.4\n",
       "Bridget Jones's Diary                                 3.6\n",
       "Gap Creek: The Story of a Marriage                    2.0\n",
       "Message in a Bottle                                   2.0\n",
       "dtype: float64"
      ]
     },
     "execution_count": 53,
     "metadata": {},
     "output_type": "execute_result"
    }
   ],
   "source": [
    "from sklearn.neighbors import NearestNeighbors\n",
    "import numpy as np\n",
    "\n",
    "# Fit the model\n",
    "model = NearestNeighbors(metric='cosine', algorithm='brute')\n",
    "model.fit(user_book_matrix.values)\n",
    "\n",
    "# Recommend books for a user\n",
    "def recommend_books(user_id, n_recommendations=5):\n",
    "    user_idx = list(user_book_matrix.index).index(user_id)\n",
    "    distances, indices = model.kneighbors([user_book_matrix.iloc[user_idx].values], n_neighbors=n_recommendations + 1)\n",
    "    recommended_users = indices.flatten()[1:]\n",
    "\n",
    "    recommended_books = user_book_matrix.iloc[recommended_users].mean(axis=0)\n",
    "    top_books = recommended_books.sort_values(ascending=False).head(n_recommendations)\n",
    "    return top_books\n",
    "\n",
    "# Example usage:\n",
    "recommend_books(user_id=96054)\n"
   ]
  },
  {
   "cell_type": "code",
   "execution_count": 62,
   "id": "e1b27bcb",
   "metadata": {},
   "outputs": [],
   "source": [
    "# Export for Power BI\n",
    "df_export = df[['user_id', 'age_category', 'book_title', 'rating', 'Category', 'country']]\n",
    "df_export.to_csv(\"E:/CC week 4 project/book_recommendation_data.csv\", index=False)\n"
   ]
  }
 ],
 "metadata": {
  "kernelspec": {
   "display_name": "Python 3",
   "language": "python",
   "name": "python3"
  },
  "language_info": {
   "codemirror_mode": {
    "name": "ipython",
    "version": 3
   },
   "file_extension": ".py",
   "mimetype": "text/x-python",
   "name": "python",
   "nbconvert_exporter": "python",
   "pygments_lexer": "ipython3",
   "version": "3.11.9"
  }
 },
 "nbformat": 4,
 "nbformat_minor": 5
}
